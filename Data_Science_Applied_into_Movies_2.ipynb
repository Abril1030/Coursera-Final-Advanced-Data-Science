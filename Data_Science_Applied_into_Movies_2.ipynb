{
  "nbformat": 4,
  "nbformat_minor": 0,
  "metadata": {
    "colab": {
      "name": "Data Science Applied into Movies 2.ipynb",
      "provenance": []
    },
    "kernelspec": {
      "name": "python3",
      "display_name": "Python 3"
    },
    "language_info": {
      "name": "python"
    }
  },
  "cells": [
    {
      "cell_type": "markdown",
      "source": [
        "# <h1 align=\"center\">Data Science applied to Movies Ratings</h1>\n",
        "# <h2 align=\"center\">**By: Juan Carlos Abril Ramírez**</h2>\n",
        "# <h3 align=\"center\">*Date: August xx of 2022*</h3>\n",
        "\n",
        "---\n",
        "\n"
      ],
      "metadata": {
        "id": "W7X5YOF2xUcY"
      }
    },
    {
      "cell_type": "markdown",
      "source": [
        "*First, we import the neccesary libraries for data cleansing and ETL*"
      ],
      "metadata": {
        "id": "7AZ16bVcyiij"
      }
    },
    {
      "cell_type": "code",
      "execution_count": 2,
      "metadata": {
        "id": "7s69Mkiuw-BS"
      },
      "outputs": [],
      "source": [
        "import numpy as np\n",
        "import pandas as pd\n",
        "import seaborn as sns\n",
        "import matplotlib.pyplot as plt\n",
        "\n",
        "from sklearn.model_selection import train_test_split, KFold, cross_val_score\n",
        "from sklearn.linear_model import LinearRegression, Ridge, Lasso, LassoCV, Ridge, RidgeCV\n",
        "from sklearn.preprocessing import StandardScaler, PolynomialFeatures\n",
        "from sklearn.metrics import r2_score, mean_squared_error, mean_absolute_error\n",
        "from sklearn import tree\n",
        "from sklearn import preprocessing\n",
        "import scipy.stats as stats\n",
        "import graphviz\n",
        "from sklearn.tree import export_graphviz\n",
        "import itertools"
      ]
    },
    {
      "cell_type": "markdown",
      "source": [
        "*Now, we proceed to call the CSV file, stored in my Repository. Then, we visualize the first 5 rows of the newly created table*"
      ],
      "metadata": {
        "id": "qqUzVvAuzfVo"
      }
    },
    {
      "cell_type": "code",
      "source": [
        "imdb_movies = pd.read_csv(\"imdb_filtered_dataframe.csv\")\n",
        "\n",
        "imdb_movies.head(5)"
      ],
      "metadata": {
        "colab": {
          "base_uri": "https://localhost:8080/",
          "height": 206
        },
        "id": "TlOjKCZ9y_kT",
        "outputId": "c6c3df43-8685-4db6-b5d9-13103609fc2c"
      },
      "execution_count": 3,
      "outputs": [
        {
          "output_type": "execute_result",
          "data": {
            "text/plain": [
              "   Unnamed: 0       Movie Title  Released Year  Runtime  IMDB Rating  \\\n",
              "0           0      12 Angry Men           1957   96 min          9.0   \n",
              "1           1  12 Years a Slave           2013  134 min          8.1   \n",
              "2           2              1917           2019  119 min          8.3   \n",
              "3           3          3 Idiots           2009  170 min          8.4   \n",
              "4           4  A Beautiful Mind           2001  135 min          8.2   \n",
              "\n",
              "          Director          Genre  \\\n",
              "0     Sidney Lumet   Crime, Drama   \n",
              "1    Steve McQueen          Drama   \n",
              "2       Sam Mendes          Drama   \n",
              "3  Rajkumar Hirani  Comedy, Drama   \n",
              "4       Ron Howard          Drama   \n",
              "\n",
              "                                               Stars  \n",
              "0  Henry Fonda, Lee J. Cobb, Martin Balsam, John ...  \n",
              "1  Chiwetel Ejiofor, Michael Kenneth Williams, Mi...  \n",
              "2  Dean-Charles Chapman, George MacKay, Daniel Ma...  \n",
              "3    Aamir Khan, Madhavan, Mona Singh, Sharman Joshi  \n",
              "4  Russell Crowe, Ed Harris, Jennifer Connelly, C...  "
            ],
            "text/html": [
              "\n",
              "  <div id=\"df-a0bb8b01-4f83-4dab-9f0d-3266927fb3b2\">\n",
              "    <div class=\"colab-df-container\">\n",
              "      <div>\n",
              "<style scoped>\n",
              "    .dataframe tbody tr th:only-of-type {\n",
              "        vertical-align: middle;\n",
              "    }\n",
              "\n",
              "    .dataframe tbody tr th {\n",
              "        vertical-align: top;\n",
              "    }\n",
              "\n",
              "    .dataframe thead th {\n",
              "        text-align: right;\n",
              "    }\n",
              "</style>\n",
              "<table border=\"1\" class=\"dataframe\">\n",
              "  <thead>\n",
              "    <tr style=\"text-align: right;\">\n",
              "      <th></th>\n",
              "      <th>Unnamed: 0</th>\n",
              "      <th>Movie Title</th>\n",
              "      <th>Released Year</th>\n",
              "      <th>Runtime</th>\n",
              "      <th>IMDB Rating</th>\n",
              "      <th>Director</th>\n",
              "      <th>Genre</th>\n",
              "      <th>Stars</th>\n",
              "    </tr>\n",
              "  </thead>\n",
              "  <tbody>\n",
              "    <tr>\n",
              "      <th>0</th>\n",
              "      <td>0</td>\n",
              "      <td>12 Angry Men</td>\n",
              "      <td>1957</td>\n",
              "      <td>96 min</td>\n",
              "      <td>9.0</td>\n",
              "      <td>Sidney Lumet</td>\n",
              "      <td>Crime, Drama</td>\n",
              "      <td>Henry Fonda, Lee J. Cobb, Martin Balsam, John ...</td>\n",
              "    </tr>\n",
              "    <tr>\n",
              "      <th>1</th>\n",
              "      <td>1</td>\n",
              "      <td>12 Years a Slave</td>\n",
              "      <td>2013</td>\n",
              "      <td>134 min</td>\n",
              "      <td>8.1</td>\n",
              "      <td>Steve McQueen</td>\n",
              "      <td>Drama</td>\n",
              "      <td>Chiwetel Ejiofor, Michael Kenneth Williams, Mi...</td>\n",
              "    </tr>\n",
              "    <tr>\n",
              "      <th>2</th>\n",
              "      <td>2</td>\n",
              "      <td>1917</td>\n",
              "      <td>2019</td>\n",
              "      <td>119 min</td>\n",
              "      <td>8.3</td>\n",
              "      <td>Sam Mendes</td>\n",
              "      <td>Drama</td>\n",
              "      <td>Dean-Charles Chapman, George MacKay, Daniel Ma...</td>\n",
              "    </tr>\n",
              "    <tr>\n",
              "      <th>3</th>\n",
              "      <td>3</td>\n",
              "      <td>3 Idiots</td>\n",
              "      <td>2009</td>\n",
              "      <td>170 min</td>\n",
              "      <td>8.4</td>\n",
              "      <td>Rajkumar Hirani</td>\n",
              "      <td>Comedy, Drama</td>\n",
              "      <td>Aamir Khan, Madhavan, Mona Singh, Sharman Joshi</td>\n",
              "    </tr>\n",
              "    <tr>\n",
              "      <th>4</th>\n",
              "      <td>4</td>\n",
              "      <td>A Beautiful Mind</td>\n",
              "      <td>2001</td>\n",
              "      <td>135 min</td>\n",
              "      <td>8.2</td>\n",
              "      <td>Ron Howard</td>\n",
              "      <td>Drama</td>\n",
              "      <td>Russell Crowe, Ed Harris, Jennifer Connelly, C...</td>\n",
              "    </tr>\n",
              "  </tbody>\n",
              "</table>\n",
              "</div>\n",
              "      <button class=\"colab-df-convert\" onclick=\"convertToInteractive('df-a0bb8b01-4f83-4dab-9f0d-3266927fb3b2')\"\n",
              "              title=\"Convert this dataframe to an interactive table.\"\n",
              "              style=\"display:none;\">\n",
              "        \n",
              "  <svg xmlns=\"http://www.w3.org/2000/svg\" height=\"24px\"viewBox=\"0 0 24 24\"\n",
              "       width=\"24px\">\n",
              "    <path d=\"M0 0h24v24H0V0z\" fill=\"none\"/>\n",
              "    <path d=\"M18.56 5.44l.94 2.06.94-2.06 2.06-.94-2.06-.94-.94-2.06-.94 2.06-2.06.94zm-11 1L8.5 8.5l.94-2.06 2.06-.94-2.06-.94L8.5 2.5l-.94 2.06-2.06.94zm10 10l.94 2.06.94-2.06 2.06-.94-2.06-.94-.94-2.06-.94 2.06-2.06.94z\"/><path d=\"M17.41 7.96l-1.37-1.37c-.4-.4-.92-.59-1.43-.59-.52 0-1.04.2-1.43.59L10.3 9.45l-7.72 7.72c-.78.78-.78 2.05 0 2.83L4 21.41c.39.39.9.59 1.41.59.51 0 1.02-.2 1.41-.59l7.78-7.78 2.81-2.81c.8-.78.8-2.07 0-2.86zM5.41 20L4 18.59l7.72-7.72 1.47 1.35L5.41 20z\"/>\n",
              "  </svg>\n",
              "      </button>\n",
              "      \n",
              "  <style>\n",
              "    .colab-df-container {\n",
              "      display:flex;\n",
              "      flex-wrap:wrap;\n",
              "      gap: 12px;\n",
              "    }\n",
              "\n",
              "    .colab-df-convert {\n",
              "      background-color: #E8F0FE;\n",
              "      border: none;\n",
              "      border-radius: 50%;\n",
              "      cursor: pointer;\n",
              "      display: none;\n",
              "      fill: #1967D2;\n",
              "      height: 32px;\n",
              "      padding: 0 0 0 0;\n",
              "      width: 32px;\n",
              "    }\n",
              "\n",
              "    .colab-df-convert:hover {\n",
              "      background-color: #E2EBFA;\n",
              "      box-shadow: 0px 1px 2px rgba(60, 64, 67, 0.3), 0px 1px 3px 1px rgba(60, 64, 67, 0.15);\n",
              "      fill: #174EA6;\n",
              "    }\n",
              "\n",
              "    [theme=dark] .colab-df-convert {\n",
              "      background-color: #3B4455;\n",
              "      fill: #D2E3FC;\n",
              "    }\n",
              "\n",
              "    [theme=dark] .colab-df-convert:hover {\n",
              "      background-color: #434B5C;\n",
              "      box-shadow: 0px 1px 3px 1px rgba(0, 0, 0, 0.15);\n",
              "      filter: drop-shadow(0px 1px 2px rgba(0, 0, 0, 0.3));\n",
              "      fill: #FFFFFF;\n",
              "    }\n",
              "  </style>\n",
              "\n",
              "      <script>\n",
              "        const buttonEl =\n",
              "          document.querySelector('#df-a0bb8b01-4f83-4dab-9f0d-3266927fb3b2 button.colab-df-convert');\n",
              "        buttonEl.style.display =\n",
              "          google.colab.kernel.accessAllowed ? 'block' : 'none';\n",
              "\n",
              "        async function convertToInteractive(key) {\n",
              "          const element = document.querySelector('#df-a0bb8b01-4f83-4dab-9f0d-3266927fb3b2');\n",
              "          const dataTable =\n",
              "            await google.colab.kernel.invokeFunction('convertToInteractive',\n",
              "                                                     [key], {});\n",
              "          if (!dataTable) return;\n",
              "\n",
              "          const docLinkHtml = 'Like what you see? Visit the ' +\n",
              "            '<a target=\"_blank\" href=https://colab.research.google.com/notebooks/data_table.ipynb>data table notebook</a>'\n",
              "            + ' to learn more about interactive tables.';\n",
              "          element.innerHTML = '';\n",
              "          dataTable['output_type'] = 'display_data';\n",
              "          await google.colab.output.renderOutput(dataTable, element);\n",
              "          const docLink = document.createElement('div');\n",
              "          docLink.innerHTML = docLinkHtml;\n",
              "          element.appendChild(docLink);\n",
              "        }\n",
              "      </script>\n",
              "    </div>\n",
              "  </div>\n",
              "  "
            ]
          },
          "metadata": {},
          "execution_count": 3
        }
      ]
    },
    {
      "cell_type": "markdown",
      "source": [
        "*We then check the number of rows (should be 1000, since it's a top 1000!) and columns (should be the same as displayed in the output above)*"
      ],
      "metadata": {
        "id": "-uMLGUQz04av"
      }
    },
    {
      "cell_type": "code",
      "source": [
        "movies_df = imdb_movies.copy()"
      ],
      "metadata": {
        "id": "Dm2dTs8ogttR"
      },
      "execution_count": 4,
      "outputs": []
    },
    {
      "cell_type": "code",
      "source": [
        "movies_df=movies_df.drop(['Unnamed: 0'], axis=1)\n",
        "movies_df"
      ],
      "metadata": {
        "colab": {
          "base_uri": "https://localhost:8080/",
          "height": 424
        },
        "id": "18tMuB9Gg-T_",
        "outputId": "e2354233-af2c-420e-fb65-3df8e32a2eed"
      },
      "execution_count": 5,
      "outputs": [
        {
          "output_type": "execute_result",
          "data": {
            "text/plain": [
              "                     Movie Title  Released Year  Runtime  IMDB Rating  \\\n",
              "0                   12 Angry Men           1957   96 min          9.0   \n",
              "1               12 Years a Slave           2013  134 min          8.1   \n",
              "2                           1917           2019  119 min          8.3   \n",
              "3                       3 Idiots           2009  170 min          8.4   \n",
              "4               A Beautiful Mind           2001  135 min          8.2   \n",
              "..                           ...            ...      ...          ...   \n",
              "277  Witness for the Prosecution           1957  116 min          8.4   \n",
              "278                      Yôjinbô           1961  110 min          8.2   \n",
              "279                      Zerkalo           1975  107 min          8.1   \n",
              "280     Zindagi Na Milegi Dobara           2011  155 min          8.1   \n",
              "281  Ôkami kodomo no Ame to Yuki           2012  117 min          8.1   \n",
              "\n",
              "             Director          Genre  \\\n",
              "0        Sidney Lumet   Crime, Drama   \n",
              "1       Steve McQueen          Drama   \n",
              "2          Sam Mendes          Drama   \n",
              "3     Rajkumar Hirani  Comedy, Drama   \n",
              "4          Ron Howard          Drama   \n",
              "..                ...            ...   \n",
              "277      Billy Wilder   Crime, Drama   \n",
              "278    Akira Kurosawa          Drama   \n",
              "279  Andrei Tarkovsky          Drama   \n",
              "280       Zoya Akhtar  Comedy, Drama   \n",
              "281     Mamoru Hosoda          Drama   \n",
              "\n",
              "                                                 Stars  \n",
              "0    Henry Fonda, Lee J. Cobb, Martin Balsam, John ...  \n",
              "1    Chiwetel Ejiofor, Michael Kenneth Williams, Mi...  \n",
              "2    Dean-Charles Chapman, George MacKay, Daniel Ma...  \n",
              "3      Aamir Khan, Madhavan, Mona Singh, Sharman Joshi  \n",
              "4    Russell Crowe, Ed Harris, Jennifer Connelly, C...  \n",
              "..                                                 ...  \n",
              "277  Tyrone Power, Marlene Dietrich, Charles Laught...  \n",
              "278  Toshirô Mifune, Eijirô Tôno, Tatsuya Nakadai, ...  \n",
              "279  Margarita Terekhova, Filipp Yankovskiy, Ignat ...  \n",
              "280  Hrithik Roshan, Farhan Akhtar, Abhay Deol, Kat...  \n",
              "281  Aoi Miyazaki, Takao Osawa, Haru Kuroki, Yukito...  \n",
              "\n",
              "[282 rows x 7 columns]"
            ],
            "text/html": [
              "\n",
              "  <div id=\"df-73b7b590-cb5a-4668-80af-16c08120330b\">\n",
              "    <div class=\"colab-df-container\">\n",
              "      <div>\n",
              "<style scoped>\n",
              "    .dataframe tbody tr th:only-of-type {\n",
              "        vertical-align: middle;\n",
              "    }\n",
              "\n",
              "    .dataframe tbody tr th {\n",
              "        vertical-align: top;\n",
              "    }\n",
              "\n",
              "    .dataframe thead th {\n",
              "        text-align: right;\n",
              "    }\n",
              "</style>\n",
              "<table border=\"1\" class=\"dataframe\">\n",
              "  <thead>\n",
              "    <tr style=\"text-align: right;\">\n",
              "      <th></th>\n",
              "      <th>Movie Title</th>\n",
              "      <th>Released Year</th>\n",
              "      <th>Runtime</th>\n",
              "      <th>IMDB Rating</th>\n",
              "      <th>Director</th>\n",
              "      <th>Genre</th>\n",
              "      <th>Stars</th>\n",
              "    </tr>\n",
              "  </thead>\n",
              "  <tbody>\n",
              "    <tr>\n",
              "      <th>0</th>\n",
              "      <td>12 Angry Men</td>\n",
              "      <td>1957</td>\n",
              "      <td>96 min</td>\n",
              "      <td>9.0</td>\n",
              "      <td>Sidney Lumet</td>\n",
              "      <td>Crime, Drama</td>\n",
              "      <td>Henry Fonda, Lee J. Cobb, Martin Balsam, John ...</td>\n",
              "    </tr>\n",
              "    <tr>\n",
              "      <th>1</th>\n",
              "      <td>12 Years a Slave</td>\n",
              "      <td>2013</td>\n",
              "      <td>134 min</td>\n",
              "      <td>8.1</td>\n",
              "      <td>Steve McQueen</td>\n",
              "      <td>Drama</td>\n",
              "      <td>Chiwetel Ejiofor, Michael Kenneth Williams, Mi...</td>\n",
              "    </tr>\n",
              "    <tr>\n",
              "      <th>2</th>\n",
              "      <td>1917</td>\n",
              "      <td>2019</td>\n",
              "      <td>119 min</td>\n",
              "      <td>8.3</td>\n",
              "      <td>Sam Mendes</td>\n",
              "      <td>Drama</td>\n",
              "      <td>Dean-Charles Chapman, George MacKay, Daniel Ma...</td>\n",
              "    </tr>\n",
              "    <tr>\n",
              "      <th>3</th>\n",
              "      <td>3 Idiots</td>\n",
              "      <td>2009</td>\n",
              "      <td>170 min</td>\n",
              "      <td>8.4</td>\n",
              "      <td>Rajkumar Hirani</td>\n",
              "      <td>Comedy, Drama</td>\n",
              "      <td>Aamir Khan, Madhavan, Mona Singh, Sharman Joshi</td>\n",
              "    </tr>\n",
              "    <tr>\n",
              "      <th>4</th>\n",
              "      <td>A Beautiful Mind</td>\n",
              "      <td>2001</td>\n",
              "      <td>135 min</td>\n",
              "      <td>8.2</td>\n",
              "      <td>Ron Howard</td>\n",
              "      <td>Drama</td>\n",
              "      <td>Russell Crowe, Ed Harris, Jennifer Connelly, C...</td>\n",
              "    </tr>\n",
              "    <tr>\n",
              "      <th>...</th>\n",
              "      <td>...</td>\n",
              "      <td>...</td>\n",
              "      <td>...</td>\n",
              "      <td>...</td>\n",
              "      <td>...</td>\n",
              "      <td>...</td>\n",
              "      <td>...</td>\n",
              "    </tr>\n",
              "    <tr>\n",
              "      <th>277</th>\n",
              "      <td>Witness for the Prosecution</td>\n",
              "      <td>1957</td>\n",
              "      <td>116 min</td>\n",
              "      <td>8.4</td>\n",
              "      <td>Billy Wilder</td>\n",
              "      <td>Crime, Drama</td>\n",
              "      <td>Tyrone Power, Marlene Dietrich, Charles Laught...</td>\n",
              "    </tr>\n",
              "    <tr>\n",
              "      <th>278</th>\n",
              "      <td>Yôjinbô</td>\n",
              "      <td>1961</td>\n",
              "      <td>110 min</td>\n",
              "      <td>8.2</td>\n",
              "      <td>Akira Kurosawa</td>\n",
              "      <td>Drama</td>\n",
              "      <td>Toshirô Mifune, Eijirô Tôno, Tatsuya Nakadai, ...</td>\n",
              "    </tr>\n",
              "    <tr>\n",
              "      <th>279</th>\n",
              "      <td>Zerkalo</td>\n",
              "      <td>1975</td>\n",
              "      <td>107 min</td>\n",
              "      <td>8.1</td>\n",
              "      <td>Andrei Tarkovsky</td>\n",
              "      <td>Drama</td>\n",
              "      <td>Margarita Terekhova, Filipp Yankovskiy, Ignat ...</td>\n",
              "    </tr>\n",
              "    <tr>\n",
              "      <th>280</th>\n",
              "      <td>Zindagi Na Milegi Dobara</td>\n",
              "      <td>2011</td>\n",
              "      <td>155 min</td>\n",
              "      <td>8.1</td>\n",
              "      <td>Zoya Akhtar</td>\n",
              "      <td>Comedy, Drama</td>\n",
              "      <td>Hrithik Roshan, Farhan Akhtar, Abhay Deol, Kat...</td>\n",
              "    </tr>\n",
              "    <tr>\n",
              "      <th>281</th>\n",
              "      <td>Ôkami kodomo no Ame to Yuki</td>\n",
              "      <td>2012</td>\n",
              "      <td>117 min</td>\n",
              "      <td>8.1</td>\n",
              "      <td>Mamoru Hosoda</td>\n",
              "      <td>Drama</td>\n",
              "      <td>Aoi Miyazaki, Takao Osawa, Haru Kuroki, Yukito...</td>\n",
              "    </tr>\n",
              "  </tbody>\n",
              "</table>\n",
              "<p>282 rows × 7 columns</p>\n",
              "</div>\n",
              "      <button class=\"colab-df-convert\" onclick=\"convertToInteractive('df-73b7b590-cb5a-4668-80af-16c08120330b')\"\n",
              "              title=\"Convert this dataframe to an interactive table.\"\n",
              "              style=\"display:none;\">\n",
              "        \n",
              "  <svg xmlns=\"http://www.w3.org/2000/svg\" height=\"24px\"viewBox=\"0 0 24 24\"\n",
              "       width=\"24px\">\n",
              "    <path d=\"M0 0h24v24H0V0z\" fill=\"none\"/>\n",
              "    <path d=\"M18.56 5.44l.94 2.06.94-2.06 2.06-.94-2.06-.94-.94-2.06-.94 2.06-2.06.94zm-11 1L8.5 8.5l.94-2.06 2.06-.94-2.06-.94L8.5 2.5l-.94 2.06-2.06.94zm10 10l.94 2.06.94-2.06 2.06-.94-2.06-.94-.94-2.06-.94 2.06-2.06.94z\"/><path d=\"M17.41 7.96l-1.37-1.37c-.4-.4-.92-.59-1.43-.59-.52 0-1.04.2-1.43.59L10.3 9.45l-7.72 7.72c-.78.78-.78 2.05 0 2.83L4 21.41c.39.39.9.59 1.41.59.51 0 1.02-.2 1.41-.59l7.78-7.78 2.81-2.81c.8-.78.8-2.07 0-2.86zM5.41 20L4 18.59l7.72-7.72 1.47 1.35L5.41 20z\"/>\n",
              "  </svg>\n",
              "      </button>\n",
              "      \n",
              "  <style>\n",
              "    .colab-df-container {\n",
              "      display:flex;\n",
              "      flex-wrap:wrap;\n",
              "      gap: 12px;\n",
              "    }\n",
              "\n",
              "    .colab-df-convert {\n",
              "      background-color: #E8F0FE;\n",
              "      border: none;\n",
              "      border-radius: 50%;\n",
              "      cursor: pointer;\n",
              "      display: none;\n",
              "      fill: #1967D2;\n",
              "      height: 32px;\n",
              "      padding: 0 0 0 0;\n",
              "      width: 32px;\n",
              "    }\n",
              "\n",
              "    .colab-df-convert:hover {\n",
              "      background-color: #E2EBFA;\n",
              "      box-shadow: 0px 1px 2px rgba(60, 64, 67, 0.3), 0px 1px 3px 1px rgba(60, 64, 67, 0.15);\n",
              "      fill: #174EA6;\n",
              "    }\n",
              "\n",
              "    [theme=dark] .colab-df-convert {\n",
              "      background-color: #3B4455;\n",
              "      fill: #D2E3FC;\n",
              "    }\n",
              "\n",
              "    [theme=dark] .colab-df-convert:hover {\n",
              "      background-color: #434B5C;\n",
              "      box-shadow: 0px 1px 3px 1px rgba(0, 0, 0, 0.15);\n",
              "      filter: drop-shadow(0px 1px 2px rgba(0, 0, 0, 0.3));\n",
              "      fill: #FFFFFF;\n",
              "    }\n",
              "  </style>\n",
              "\n",
              "      <script>\n",
              "        const buttonEl =\n",
              "          document.querySelector('#df-73b7b590-cb5a-4668-80af-16c08120330b button.colab-df-convert');\n",
              "        buttonEl.style.display =\n",
              "          google.colab.kernel.accessAllowed ? 'block' : 'none';\n",
              "\n",
              "        async function convertToInteractive(key) {\n",
              "          const element = document.querySelector('#df-73b7b590-cb5a-4668-80af-16c08120330b');\n",
              "          const dataTable =\n",
              "            await google.colab.kernel.invokeFunction('convertToInteractive',\n",
              "                                                     [key], {});\n",
              "          if (!dataTable) return;\n",
              "\n",
              "          const docLinkHtml = 'Like what you see? Visit the ' +\n",
              "            '<a target=\"_blank\" href=https://colab.research.google.com/notebooks/data_table.ipynb>data table notebook</a>'\n",
              "            + ' to learn more about interactive tables.';\n",
              "          element.innerHTML = '';\n",
              "          dataTable['output_type'] = 'display_data';\n",
              "          await google.colab.output.renderOutput(dataTable, element);\n",
              "          const docLink = document.createElement('div');\n",
              "          docLink.innerHTML = docLinkHtml;\n",
              "          element.appendChild(docLink);\n",
              "        }\n",
              "      </script>\n",
              "    </div>\n",
              "  </div>\n",
              "  "
            ]
          },
          "metadata": {},
          "execution_count": 5
        }
      ]
    },
    {
      "cell_type": "code",
      "source": [
        "movies_df.info()"
      ],
      "metadata": {
        "colab": {
          "base_uri": "https://localhost:8080/"
        },
        "id": "DX1zy3Poh4vi",
        "outputId": "e197abf7-65b5-4381-8b1a-c67cff6e82a7"
      },
      "execution_count": null,
      "outputs": [
        {
          "output_type": "stream",
          "name": "stdout",
          "text": [
            "<class 'pandas.core.frame.DataFrame'>\n",
            "RangeIndex: 282 entries, 0 to 281\n",
            "Data columns (total 7 columns):\n",
            " #   Column         Non-Null Count  Dtype  \n",
            "---  ------         --------------  -----  \n",
            " 0   Movie Title    282 non-null    object \n",
            " 1   Released Year  282 non-null    int64  \n",
            " 2   Runtime        282 non-null    object \n",
            " 3   IMDB Rating    282 non-null    float64\n",
            " 4   Director       282 non-null    object \n",
            " 5   Genre          282 non-null    object \n",
            " 6   Stars          282 non-null    object \n",
            "dtypes: float64(1), int64(1), object(5)\n",
            "memory usage: 15.5+ KB\n"
          ]
        }
      ]
    },
    {
      "cell_type": "code",
      "source": [
        "sns.lmplot(data=movies_df, x=\"Released Year\", y=\"IMDB Rating\", col=\"Genre\", hue=\"Genre\")"
      ],
      "metadata": {
        "colab": {
          "base_uri": "https://localhost:8080/",
          "height": 211
        },
        "id": "qP2frLo_kdKD",
        "outputId": "e16f9b6d-a7ee-43d7-c32e-19c839bd9551"
      },
      "execution_count": null,
      "outputs": [
        {
          "output_type": "execute_result",
          "data": {
            "text/plain": [
              "<seaborn.axisgrid.FacetGrid at 0x7fdfccc41990>"
            ]
          },
          "metadata": {},
          "execution_count": 31
        },
        {
          "output_type": "display_data",
          "data": {
            "text/plain": [
              "<Figure size 2520x360 with 7 Axes>"
            ],
            "image/png": "[encoded data removed]"
          },
          "metadata": {
            "needs_background": "light"
          }
        }
      ]
    },
    {
      "cell_type": "code",
      "source": [
        "sns.catplot(data=movies_df, kind=\"swarm\", x=\"IMDB Rating\", y=\"Released Year\", hue=\"Genre\")"
      ],
      "metadata": {
        "colab": {
          "base_uri": "https://localhost:8080/",
          "height": 443
        },
        "id": "G70RST7HlEO0",
        "outputId": "10b6a77a-677f-4498-b7c8-b5e1d2d2ab0c"
      },
      "execution_count": null,
      "outputs": [
        {
          "output_type": "stream",
          "name": "stderr",
          "text": [
            "/usr/local/lib/python3.7/dist-packages/seaborn/categorical.py:1296: UserWarning: 13.6% of the points cannot be placed; you may want to decrease the size of the markers or use stripplot.\n",
            "  warnings.warn(msg, UserWarning)\n"
          ]
        },
        {
          "output_type": "execute_result",
          "data": {
            "text/plain": [
              "<seaborn.axisgrid.FacetGrid at 0x7fdfccc353d0>"
            ]
          },
          "metadata": {},
          "execution_count": 35
        },
        {
          "output_type": "display_data",
          "data": {
            "text/plain": [
              "<Figure size 512.75x360 with 1 Axes>"
            ],
            "image/png": "[encoded data removed]"
          },
          "metadata": {
            "needs_background": "light"
          }
        }
      ]
    },
    {
      "cell_type": "code",
      "source": [
        "sns.pairplot(data=movies_df, hue=\"Genre\")"
      ],
      "metadata": {
        "colab": {
          "base_uri": "https://localhost:8080/",
          "height": 392
        },
        "id": "cKSTP3pTl78o",
        "outputId": "af5bce48-e5e1-4bd8-9bee-b8dd3d7223c2"
      },
      "execution_count": null,
      "outputs": [
        {
          "output_type": "execute_result",
          "data": {
            "text/plain": [
              "<seaborn.axisgrid.PairGrid at 0x7fdfcbcec850>"
            ]
          },
          "metadata": {},
          "execution_count": 38
        },
        {
          "output_type": "display_data",
          "data": {
            "text/plain": [
              "<Figure size 512.75x360 with 6 Axes>"
            ],
            "image/png": "[encoded data removed]"
          },
          "metadata": {
            "needs_background": "light"
          }
        }
      ]
    },
    {
      "cell_type": "code",
      "source": [
        "X, y = movies_df[['Released Year']], movies_df['IMDB Rating']"
      ],
      "metadata": {
        "id": "XwUAM5s3m7IQ"
      },
      "execution_count": 6,
      "outputs": []
    },
    {
      "cell_type": "code",
      "source": [
        "lr = LinearRegression()\n",
        "lr.fit(X, y)\n",
        "print('R-squared: {:.4f}'.format(lr.score(X, y)))"
      ],
      "metadata": {
        "colab": {
          "base_uri": "https://localhost:8080/"
        },
        "id": "8_fIeAJAnKv7",
        "outputId": "bab87197-eb14-4ba3-c10e-737fa768ad95"
      },
      "execution_count": 7,
      "outputs": [
        {
          "output_type": "stream",
          "name": "stdout",
          "text": [
            "R-squared: 0.0011\n"
          ]
        }
      ]
    },
    {
      "cell_type": "code",
      "source": [
        "movies_df['Runtime'] = movies_df.Runtime.str.replace('min' , '')"
      ],
      "metadata": {
        "id": "GXiWVBfanxHg"
      },
      "execution_count": 8,
      "outputs": []
    },
    {
      "cell_type": "code",
      "source": [
        "column_names = movies_df.columns.values\n",
        "column_names[2] = \"Runtime (min)\"\n",
        "movies_df.columns = column_names"
      ],
      "metadata": {
        "id": "ccM7AJ2GqvYR"
      },
      "execution_count": 9,
      "outputs": []
    },
    {
      "cell_type": "code",
      "source": [
        "X1, y1 = movies_df[['Runtime (min)']], movies_df['IMDB Rating']"
      ],
      "metadata": {
        "id": "EnYqGy9tnPRG"
      },
      "execution_count": 10,
      "outputs": []
    },
    {
      "cell_type": "code",
      "source": [
        "lr1 = LinearRegression()\n",
        "lr1.fit(X1, y1)\n",
        "\n",
        "print('R-squared: {:.4f}'.format(lr1.score(X1, y1)))"
      ],
      "metadata": {
        "colab": {
          "base_uri": "https://localhost:8080/"
        },
        "id": "5tgmiJVcnTyf",
        "outputId": "863f1b04-6286-4a6e-de3b-7f5a4a9dfabe"
      },
      "execution_count": 11,
      "outputs": [
        {
          "output_type": "stream",
          "name": "stdout",
          "text": [
            "R-squared: 0.0300\n"
          ]
        }
      ]
    },
    {
      "cell_type": "code",
      "source": [
        "movies_df_1=movies_df['Genre'].str.split(r\", \", expand=True)"
      ],
      "metadata": {
        "id": "CVfVc5eBypsq"
      },
      "execution_count": 12,
      "outputs": []
    },
    {
      "cell_type": "code",
      "source": [
        "movies_df_1.rename(columns={0:'Genre 1', 1:'Genre 2', 2:'Genre 3'},inplace=True)"
      ],
      "metadata": {
        "id": "RgRo15PVuZGz"
      },
      "execution_count": 13,
      "outputs": []
    },
    {
      "cell_type": "code",
      "source": [
        "movies_df_2=pd.concat([movies_df, movies_df_1], axis=1)"
      ],
      "metadata": {
        "id": "amUh-8KRw-Xv"
      },
      "execution_count": 14,
      "outputs": []
    },
    {
      "cell_type": "code",
      "source": [
        "movies_df_2.drop(columns=['Genre'])"
      ],
      "metadata": {
        "colab": {
          "base_uri": "https://localhost:8080/",
          "height": 555
        },
        "id": "bVmzYQRmyZM0",
        "outputId": "59940f23-b373-4c1e-b438-47eb5ca811f7"
      },
      "execution_count": 15,
      "outputs": [
        {
          "output_type": "execute_result",
          "data": {
            "text/plain": [
              "                     Movie Title  Released Year Runtime (min)  IMDB Rating  \\\n",
              "0                   12 Angry Men           1957           96           9.0   \n",
              "1               12 Years a Slave           2013          134           8.1   \n",
              "2                           1917           2019          119           8.3   \n",
              "3                       3 Idiots           2009          170           8.4   \n",
              "4               A Beautiful Mind           2001          135           8.2   \n",
              "..                           ...            ...           ...          ...   \n",
              "277  Witness for the Prosecution           1957          116           8.4   \n",
              "278                      Yôjinbô           1961          110           8.2   \n",
              "279                      Zerkalo           1975          107           8.1   \n",
              "280     Zindagi Na Milegi Dobara           2011          155           8.1   \n",
              "281  Ôkami kodomo no Ame to Yuki           2012          117           8.1   \n",
              "\n",
              "             Director                                              Stars  \\\n",
              "0        Sidney Lumet  Henry Fonda, Lee J. Cobb, Martin Balsam, John ...   \n",
              "1       Steve McQueen  Chiwetel Ejiofor, Michael Kenneth Williams, Mi...   \n",
              "2          Sam Mendes  Dean-Charles Chapman, George MacKay, Daniel Ma...   \n",
              "3     Rajkumar Hirani    Aamir Khan, Madhavan, Mona Singh, Sharman Joshi   \n",
              "4          Ron Howard  Russell Crowe, Ed Harris, Jennifer Connelly, C...   \n",
              "..                ...                                                ...   \n",
              "277      Billy Wilder  Tyrone Power, Marlene Dietrich, Charles Laught...   \n",
              "278    Akira Kurosawa  Toshirô Mifune, Eijirô Tôno, Tatsuya Nakadai, ...   \n",
              "279  Andrei Tarkovsky  Margarita Terekhova, Filipp Yankovskiy, Ignat ...   \n",
              "280       Zoya Akhtar  Hrithik Roshan, Farhan Akhtar, Abhay Deol, Kat...   \n",
              "281     Mamoru Hosoda  Aoi Miyazaki, Takao Osawa, Haru Kuroki, Yukito...   \n",
              "\n",
              "    Genre 1 Genre 2 Genre 3  \n",
              "0     Crime   Drama    None  \n",
              "1     Drama    None    None  \n",
              "2     Drama    None    None  \n",
              "3    Comedy   Drama    None  \n",
              "4     Drama    None    None  \n",
              "..      ...     ...     ...  \n",
              "277   Crime   Drama    None  \n",
              "278   Drama    None    None  \n",
              "279   Drama    None    None  \n",
              "280  Comedy   Drama    None  \n",
              "281   Drama    None    None  \n",
              "\n",
              "[282 rows x 9 columns]"
            ],
            "text/html": [
              "\n",
              "  <div id=\"df-4e72d629-e3d8-4806-ab89-37ea92140f0a\">\n",
              "    <div class=\"colab-df-container\">\n",
              "      <div>\n",
              "<style scoped>\n",
              "    .dataframe tbody tr th:only-of-type {\n",
              "        vertical-align: middle;\n",
              "    }\n",
              "\n",
              "    .dataframe tbody tr th {\n",
              "        vertical-align: top;\n",
              "    }\n",
              "\n",
              "    .dataframe thead th {\n",
              "        text-align: right;\n",
              "    }\n",
              "</style>\n",
              "<table border=\"1\" class=\"dataframe\">\n",
              "  <thead>\n",
              "    <tr style=\"text-align: right;\">\n",
              "      <th></th>\n",
              "      <th>Movie Title</th>\n",
              "      <th>Released Year</th>\n",
              "      <th>Runtime (min)</th>\n",
              "      <th>IMDB Rating</th>\n",
              "      <th>Director</th>\n",
              "      <th>Stars</th>\n",
              "      <th>Genre 1</th>\n",
              "      <th>Genre 2</th>\n",
              "      <th>Genre 3</th>\n",
              "    </tr>\n",
              "  </thead>\n",
              "  <tbody>\n",
              "    <tr>\n",
              "      <th>0</th>\n",
              "      <td>12 Angry Men</td>\n",
              "      <td>1957</td>\n",
              "      <td>96</td>\n",
              "      <td>9.0</td>\n",
              "      <td>Sidney Lumet</td>\n",
              "      <td>Henry Fonda, Lee J. Cobb, Martin Balsam, John ...</td>\n",
              "      <td>Crime</td>\n",
              "      <td>Drama</td>\n",
              "      <td>None</td>\n",
              "    </tr>\n",
              "    <tr>\n",
              "      <th>1</th>\n",
              "      <td>12 Years a Slave</td>\n",
              "      <td>2013</td>\n",
              "      <td>134</td>\n",
              "      <td>8.1</td>\n",
              "      <td>Steve McQueen</td>\n",
              "      <td>Chiwetel Ejiofor, Michael Kenneth Williams, Mi...</td>\n",
              "      <td>Drama</td>\n",
              "      <td>None</td>\n",
              "      <td>None</td>\n",
              "    </tr>\n",
              "    <tr>\n",
              "      <th>2</th>\n",
              "      <td>1917</td>\n",
              "      <td>2019</td>\n",
              "      <td>119</td>\n",
              "      <td>8.3</td>\n",
              "      <td>Sam Mendes</td>\n",
              "      <td>Dean-Charles Chapman, George MacKay, Daniel Ma...</td>\n",
              "      <td>Drama</td>\n",
              "      <td>None</td>\n",
              "      <td>None</td>\n",
              "    </tr>\n",
              "    <tr>\n",
              "      <th>3</th>\n",
              "      <td>3 Idiots</td>\n",
              "      <td>2009</td>\n",
              "      <td>170</td>\n",
              "      <td>8.4</td>\n",
              "      <td>Rajkumar Hirani</td>\n",
              "      <td>Aamir Khan, Madhavan, Mona Singh, Sharman Joshi</td>\n",
              "      <td>Comedy</td>\n",
              "      <td>Drama</td>\n",
              "      <td>None</td>\n",
              "    </tr>\n",
              "    <tr>\n",
              "      <th>4</th>\n",
              "      <td>A Beautiful Mind</td>\n",
              "      <td>2001</td>\n",
              "      <td>135</td>\n",
              "      <td>8.2</td>\n",
              "      <td>Ron Howard</td>\n",
              "      <td>Russell Crowe, Ed Harris, Jennifer Connelly, C...</td>\n",
              "      <td>Drama</td>\n",
              "      <td>None</td>\n",
              "      <td>None</td>\n",
              "    </tr>\n",
              "    <tr>\n",
              "      <th>...</th>\n",
              "      <td>...</td>\n",
              "      <td>...</td>\n",
              "      <td>...</td>\n",
              "      <td>...</td>\n",
              "      <td>...</td>\n",
              "      <td>...</td>\n",
              "      <td>...</td>\n",
              "      <td>...</td>\n",
              "      <td>...</td>\n",
              "    </tr>\n",
              "    <tr>\n",
              "      <th>277</th>\n",
              "      <td>Witness for the Prosecution</td>\n",
              "      <td>1957</td>\n",
              "      <td>116</td>\n",
              "      <td>8.4</td>\n",
              "      <td>Billy Wilder</td>\n",
              "      <td>Tyrone Power, Marlene Dietrich, Charles Laught...</td>\n",
              "      <td>Crime</td>\n",
              "      <td>Drama</td>\n",
              "      <td>None</td>\n",
              "    </tr>\n",
              "    <tr>\n",
              "      <th>278</th>\n",
              "      <td>Yôjinbô</td>\n",
              "      <td>1961</td>\n",
              "      <td>110</td>\n",
              "      <td>8.2</td>\n",
              "      <td>Akira Kurosawa</td>\n",
              "      <td>Toshirô Mifune, Eijirô Tôno, Tatsuya Nakadai, ...</td>\n",
              "      <td>Drama</td>\n",
              "      <td>None</td>\n",
              "      <td>None</td>\n",
              "    </tr>\n",
              "    <tr>\n",
              "      <th>279</th>\n",
              "      <td>Zerkalo</td>\n",
              "      <td>1975</td>\n",
              "      <td>107</td>\n",
              "      <td>8.1</td>\n",
              "      <td>Andrei Tarkovsky</td>\n",
              "      <td>Margarita Terekhova, Filipp Yankovskiy, Ignat ...</td>\n",
              "      <td>Drama</td>\n",
              "      <td>None</td>\n",
              "      <td>None</td>\n",
              "    </tr>\n",
              "    <tr>\n",
              "      <th>280</th>\n",
              "      <td>Zindagi Na Milegi Dobara</td>\n",
              "      <td>2011</td>\n",
              "      <td>155</td>\n",
              "      <td>8.1</td>\n",
              "      <td>Zoya Akhtar</td>\n",
              "      <td>Hrithik Roshan, Farhan Akhtar, Abhay Deol, Kat...</td>\n",
              "      <td>Comedy</td>\n",
              "      <td>Drama</td>\n",
              "      <td>None</td>\n",
              "    </tr>\n",
              "    <tr>\n",
              "      <th>281</th>\n",
              "      <td>Ôkami kodomo no Ame to Yuki</td>\n",
              "      <td>2012</td>\n",
              "      <td>117</td>\n",
              "      <td>8.1</td>\n",
              "      <td>Mamoru Hosoda</td>\n",
              "      <td>Aoi Miyazaki, Takao Osawa, Haru Kuroki, Yukito...</td>\n",
              "      <td>Drama</td>\n",
              "      <td>None</td>\n",
              "      <td>None</td>\n",
              "    </tr>\n",
              "  </tbody>\n",
              "</table>\n",
              "<p>282 rows × 9 columns</p>\n",
              "</div>\n",
              "      <button class=\"colab-df-convert\" onclick=\"convertToInteractive('df-4e72d629-e3d8-4806-ab89-37ea92140f0a')\"\n",
              "              title=\"Convert this dataframe to an interactive table.\"\n",
              "              style=\"display:none;\">\n",
              "        \n",
              "  <svg xmlns=\"http://www.w3.org/2000/svg\" height=\"24px\"viewBox=\"0 0 24 24\"\n",
              "       width=\"24px\">\n",
              "    <path d=\"M0 0h24v24H0V0z\" fill=\"none\"/>\n",
              "    <path d=\"M18.56 5.44l.94 2.06.94-2.06 2.06-.94-2.06-.94-.94-2.06-.94 2.06-2.06.94zm-11 1L8.5 8.5l.94-2.06 2.06-.94-2.06-.94L8.5 2.5l-.94 2.06-2.06.94zm10 10l.94 2.06.94-2.06 2.06-.94-2.06-.94-.94-2.06-.94 2.06-2.06.94z\"/><path d=\"M17.41 7.96l-1.37-1.37c-.4-.4-.92-.59-1.43-.59-.52 0-1.04.2-1.43.59L10.3 9.45l-7.72 7.72c-.78.78-.78 2.05 0 2.83L4 21.41c.39.39.9.59 1.41.59.51 0 1.02-.2 1.41-.59l7.78-7.78 2.81-2.81c.8-.78.8-2.07 0-2.86zM5.41 20L4 18.59l7.72-7.72 1.47 1.35L5.41 20z\"/>\n",
              "  </svg>\n",
              "      </button>\n",
              "      \n",
              "  <style>\n",
              "    .colab-df-container {\n",
              "      display:flex;\n",
              "      flex-wrap:wrap;\n",
              "      gap: 12px;\n",
              "    }\n",
              "\n",
              "    .colab-df-convert {\n",
              "      background-color: #E8F0FE;\n",
              "      border: none;\n",
              "      border-radius: 50%;\n",
              "      cursor: pointer;\n",
              "      display: none;\n",
              "      fill: #1967D2;\n",
              "      height: 32px;\n",
              "      padding: 0 0 0 0;\n",
              "      width: 32px;\n",
              "    }\n",
              "\n",
              "    .colab-df-convert:hover {\n",
              "      background-color: #E2EBFA;\n",
              "      box-shadow: 0px 1px 2px rgba(60, 64, 67, 0.3), 0px 1px 3px 1px rgba(60, 64, 67, 0.15);\n",
              "      fill: #174EA6;\n",
              "    }\n",
              "\n",
              "    [theme=dark] .colab-df-convert {\n",
              "      background-color: #3B4455;\n",
              "      fill: #D2E3FC;\n",
              "    }\n",
              "\n",
              "    [theme=dark] .colab-df-convert:hover {\n",
              "      background-color: #434B5C;\n",
              "      box-shadow: 0px 1px 3px 1px rgba(0, 0, 0, 0.15);\n",
              "      filter: drop-shadow(0px 1px 2px rgba(0, 0, 0, 0.3));\n",
              "      fill: #FFFFFF;\n",
              "    }\n",
              "  </style>\n",
              "\n",
              "      <script>\n",
              "        const buttonEl =\n",
              "          document.querySelector('#df-4e72d629-e3d8-4806-ab89-37ea92140f0a button.colab-df-convert');\n",
              "        buttonEl.style.display =\n",
              "          google.colab.kernel.accessAllowed ? 'block' : 'none';\n",
              "\n",
              "        async function convertToInteractive(key) {\n",
              "          const element = document.querySelector('#df-4e72d629-e3d8-4806-ab89-37ea92140f0a');\n",
              "          const dataTable =\n",
              "            await google.colab.kernel.invokeFunction('convertToInteractive',\n",
              "                                                     [key], {});\n",
              "          if (!dataTable) return;\n",
              "\n",
              "          const docLinkHtml = 'Like what you see? Visit the ' +\n",
              "            '<a target=\"_blank\" href=https://colab.research.google.com/notebooks/data_table.ipynb>data table notebook</a>'\n",
              "            + ' to learn more about interactive tables.';\n",
              "          element.innerHTML = '';\n",
              "          dataTable['output_type'] = 'display_data';\n",
              "          await google.colab.output.renderOutput(dataTable, element);\n",
              "          const docLink = document.createElement('div');\n",
              "          docLink.innerHTML = docLinkHtml;\n",
              "          element.appendChild(docLink);\n",
              "        }\n",
              "      </script>\n",
              "    </div>\n",
              "  </div>\n",
              "  "
            ]
          },
          "metadata": {},
          "execution_count": 15
        }
      ]
    },
    {
      "cell_type": "code",
      "source": [
        "one_hot_encoded_data = pd.get_dummies(movies_df_2, columns = ['Genre 1', 'Genre 2', 'Genre 3'])"
      ],
      "metadata": {
        "id": "ruKb2U9a0cI1"
      },
      "execution_count": 16,
      "outputs": []
    },
    {
      "cell_type": "code",
      "source": [
        "one_hot_encoded_data"
      ],
      "metadata": {
        "colab": {
          "base_uri": "https://localhost:8080/",
          "height": 832
        },
        "id": "pU5oawsT0rDM",
        "outputId": "bf093e6c-1a9f-4f8d-b510-90f584da482b"
      },
      "execution_count": 17,
      "outputs": [
        {
          "output_type": "execute_result",
          "data": {
            "text/plain": [
              "                     Movie Title  Released Year Runtime (min)  IMDB Rating  \\\n",
              "0                   12 Angry Men           1957           96           9.0   \n",
              "1               12 Years a Slave           2013          134           8.1   \n",
              "2                           1917           2019          119           8.3   \n",
              "3                       3 Idiots           2009          170           8.4   \n",
              "4               A Beautiful Mind           2001          135           8.2   \n",
              "..                           ...            ...           ...          ...   \n",
              "277  Witness for the Prosecution           1957          116           8.4   \n",
              "278                      Yôjinbô           1961          110           8.2   \n",
              "279                      Zerkalo           1975          107           8.1   \n",
              "280     Zindagi Na Milegi Dobara           2011          155           8.1   \n",
              "281  Ôkami kodomo no Ame to Yuki           2012          117           8.1   \n",
              "\n",
              "             Director          Genre  \\\n",
              "0        Sidney Lumet   Crime, Drama   \n",
              "1       Steve McQueen          Drama   \n",
              "2          Sam Mendes          Drama   \n",
              "3     Rajkumar Hirani  Comedy, Drama   \n",
              "4          Ron Howard          Drama   \n",
              "..                ...            ...   \n",
              "277      Billy Wilder   Crime, Drama   \n",
              "278    Akira Kurosawa          Drama   \n",
              "279  Andrei Tarkovsky          Drama   \n",
              "280       Zoya Akhtar  Comedy, Drama   \n",
              "281     Mamoru Hosoda          Drama   \n",
              "\n",
              "                                                 Stars  Genre 1_Comedy  \\\n",
              "0    Henry Fonda, Lee J. Cobb, Martin Balsam, John ...               0   \n",
              "1    Chiwetel Ejiofor, Michael Kenneth Williams, Mi...               0   \n",
              "2    Dean-Charles Chapman, George MacKay, Daniel Ma...               0   \n",
              "3      Aamir Khan, Madhavan, Mona Singh, Sharman Joshi               1   \n",
              "4    Russell Crowe, Ed Harris, Jennifer Connelly, C...               0   \n",
              "..                                                 ...             ...   \n",
              "277  Tyrone Power, Marlene Dietrich, Charles Laught...               0   \n",
              "278  Toshirô Mifune, Eijirô Tôno, Tatsuya Nakadai, ...               0   \n",
              "279  Margarita Terekhova, Filipp Yankovskiy, Ignat ...               0   \n",
              "280  Hrithik Roshan, Farhan Akhtar, Abhay Deol, Kat...               1   \n",
              "281  Aoi Miyazaki, Takao Osawa, Haru Kuroki, Yukito...               0   \n",
              "\n",
              "     Genre 1_Crime  Genre 1_Drama  Genre 2_Crime  Genre 2_Drama  Genre 3_Drama  \n",
              "0                1              0              0              1              0  \n",
              "1                0              1              0              0              0  \n",
              "2                0              1              0              0              0  \n",
              "3                0              0              0              1              0  \n",
              "4                0              1              0              0              0  \n",
              "..             ...            ...            ...            ...            ...  \n",
              "277              1              0              0              1              0  \n",
              "278              0              1              0              0              0  \n",
              "279              0              1              0              0              0  \n",
              "280              0              0              0              1              0  \n",
              "281              0              1              0              0              0  \n",
              "\n",
              "[282 rows x 13 columns]"
            ],
            "text/html": [
              "\n",
              "  <div id=\"df-b4ba13ec-901a-4c17-b467-6eacabc5e971\">\n",
              "    <div class=\"colab-df-container\">\n",
              "      <div>\n",
              "<style scoped>\n",
              "    .dataframe tbody tr th:only-of-type {\n",
              "        vertical-align: middle;\n",
              "    }\n",
              "\n",
              "    .dataframe tbody tr th {\n",
              "        vertical-align: top;\n",
              "    }\n",
              "\n",
              "    .dataframe thead th {\n",
              "        text-align: right;\n",
              "    }\n",
              "</style>\n",
              "<table border=\"1\" class=\"dataframe\">\n",
              "  <thead>\n",
              "    <tr style=\"text-align: right;\">\n",
              "      <th></th>\n",
              "      <th>Movie Title</th>\n",
              "      <th>Released Year</th>\n",
              "      <th>Runtime (min)</th>\n",
              "      <th>IMDB Rating</th>\n",
              "      <th>Director</th>\n",
              "      <th>Genre</th>\n",
              "      <th>Stars</th>\n",
              "      <th>Genre 1_Comedy</th>\n",
              "      <th>Genre 1_Crime</th>\n",
              "      <th>Genre 1_Drama</th>\n",
              "      <th>Genre 2_Crime</th>\n",
              "      <th>Genre 2_Drama</th>\n",
              "      <th>Genre 3_Drama</th>\n",
              "    </tr>\n",
              "  </thead>\n",
              "  <tbody>\n",
              "    <tr>\n",
              "      <th>0</th>\n",
              "      <td>12 Angry Men</td>\n",
              "      <td>1957</td>\n",
              "      <td>96</td>\n",
              "      <td>9.0</td>\n",
              "      <td>Sidney Lumet</td>\n",
              "      <td>Crime, Drama</td>\n",
              "      <td>Henry Fonda, Lee J. Cobb, Martin Balsam, John ...</td>\n",
              "      <td>0</td>\n",
              "      <td>1</td>\n",
              "      <td>0</td>\n",
              "      <td>0</td>\n",
              "      <td>1</td>\n",
              "      <td>0</td>\n",
              "    </tr>\n",
              "    <tr>\n",
              "      <th>1</th>\n",
              "      <td>12 Years a Slave</td>\n",
              "      <td>2013</td>\n",
              "      <td>134</td>\n",
              "      <td>8.1</td>\n",
              "      <td>Steve McQueen</td>\n",
              "      <td>Drama</td>\n",
              "      <td>Chiwetel Ejiofor, Michael Kenneth Williams, Mi...</td>\n",
              "      <td>0</td>\n",
              "      <td>0</td>\n",
              "      <td>1</td>\n",
              "      <td>0</td>\n",
              "      <td>0</td>\n",
              "      <td>0</td>\n",
              "    </tr>\n",
              "    <tr>\n",
              "      <th>2</th>\n",
              "      <td>1917</td>\n",
              "      <td>2019</td>\n",
              "      <td>119</td>\n",
              "      <td>8.3</td>\n",
              "      <td>Sam Mendes</td>\n",
              "      <td>Drama</td>\n",
              "      <td>Dean-Charles Chapman, George MacKay, Daniel Ma...</td>\n",
              "      <td>0</td>\n",
              "      <td>0</td>\n",
              "      <td>1</td>\n",
              "      <td>0</td>\n",
              "      <td>0</td>\n",
              "      <td>0</td>\n",
              "    </tr>\n",
              "    <tr>\n",
              "      <th>3</th>\n",
              "      <td>3 Idiots</td>\n",
              "      <td>2009</td>\n",
              "      <td>170</td>\n",
              "      <td>8.4</td>\n",
              "      <td>Rajkumar Hirani</td>\n",
              "      <td>Comedy, Drama</td>\n",
              "      <td>Aamir Khan, Madhavan, Mona Singh, Sharman Joshi</td>\n",
              "      <td>1</td>\n",
              "      <td>0</td>\n",
              "      <td>0</td>\n",
              "      <td>0</td>\n",
              "      <td>1</td>\n",
              "      <td>0</td>\n",
              "    </tr>\n",
              "    <tr>\n",
              "      <th>4</th>\n",
              "      <td>A Beautiful Mind</td>\n",
              "      <td>2001</td>\n",
              "      <td>135</td>\n",
              "      <td>8.2</td>\n",
              "      <td>Ron Howard</td>\n",
              "      <td>Drama</td>\n",
              "      <td>Russell Crowe, Ed Harris, Jennifer Connelly, C...</td>\n",
              "      <td>0</td>\n",
              "      <td>0</td>\n",
              "      <td>1</td>\n",
              "      <td>0</td>\n",
              "      <td>0</td>\n",
              "      <td>0</td>\n",
              "    </tr>\n",
              "    <tr>\n",
              "      <th>...</th>\n",
              "      <td>...</td>\n",
              "      <td>...</td>\n",
              "      <td>...</td>\n",
              "      <td>...</td>\n",
              "      <td>...</td>\n",
              "      <td>...</td>\n",
              "      <td>...</td>\n",
              "      <td>...</td>\n",
              "      <td>...</td>\n",
              "      <td>...</td>\n",
              "      <td>...</td>\n",
              "      <td>...</td>\n",
              "      <td>...</td>\n",
              "    </tr>\n",
              "    <tr>\n",
              "      <th>277</th>\n",
              "      <td>Witness for the Prosecution</td>\n",
              "      <td>1957</td>\n",
              "      <td>116</td>\n",
              "      <td>8.4</td>\n",
              "      <td>Billy Wilder</td>\n",
              "      <td>Crime, Drama</td>\n",
              "      <td>Tyrone Power, Marlene Dietrich, Charles Laught...</td>\n",
              "      <td>0</td>\n",
              "      <td>1</td>\n",
              "      <td>0</td>\n",
              "      <td>0</td>\n",
              "      <td>1</td>\n",
              "      <td>0</td>\n",
              "    </tr>\n",
              "    <tr>\n",
              "      <th>278</th>\n",
              "      <td>Yôjinbô</td>\n",
              "      <td>1961</td>\n",
              "      <td>110</td>\n",
              "      <td>8.2</td>\n",
              "      <td>Akira Kurosawa</td>\n",
              "      <td>Drama</td>\n",
              "      <td>Toshirô Mifune, Eijirô Tôno, Tatsuya Nakadai, ...</td>\n",
              "      <td>0</td>\n",
              "      <td>0</td>\n",
              "      <td>1</td>\n",
              "      <td>0</td>\n",
              "      <td>0</td>\n",
              "      <td>0</td>\n",
              "    </tr>\n",
              "    <tr>\n",
              "      <th>279</th>\n",
              "      <td>Zerkalo</td>\n",
              "      <td>1975</td>\n",
              "      <td>107</td>\n",
              "      <td>8.1</td>\n",
              "      <td>Andrei Tarkovsky</td>\n",
              "      <td>Drama</td>\n",
              "      <td>Margarita Terekhova, Filipp Yankovskiy, Ignat ...</td>\n",
              "      <td>0</td>\n",
              "      <td>0</td>\n",
              "      <td>1</td>\n",
              "      <td>0</td>\n",
              "      <td>0</td>\n",
              "      <td>0</td>\n",
              "    </tr>\n",
              "    <tr>\n",
              "      <th>280</th>\n",
              "      <td>Zindagi Na Milegi Dobara</td>\n",
              "      <td>2011</td>\n",
              "      <td>155</td>\n",
              "      <td>8.1</td>\n",
              "      <td>Zoya Akhtar</td>\n",
              "      <td>Comedy, Drama</td>\n",
              "      <td>Hrithik Roshan, Farhan Akhtar, Abhay Deol, Kat...</td>\n",
              "      <td>1</td>\n",
              "      <td>0</td>\n",
              "      <td>0</td>\n",
              "      <td>0</td>\n",
              "      <td>1</td>\n",
              "      <td>0</td>\n",
              "    </tr>\n",
              "    <tr>\n",
              "      <th>281</th>\n",
              "      <td>Ôkami kodomo no Ame to Yuki</td>\n",
              "      <td>2012</td>\n",
              "      <td>117</td>\n",
              "      <td>8.1</td>\n",
              "      <td>Mamoru Hosoda</td>\n",
              "      <td>Drama</td>\n",
              "      <td>Aoi Miyazaki, Takao Osawa, Haru Kuroki, Yukito...</td>\n",
              "      <td>0</td>\n",
              "      <td>0</td>\n",
              "      <td>1</td>\n",
              "      <td>0</td>\n",
              "      <td>0</td>\n",
              "      <td>0</td>\n",
              "    </tr>\n",
              "  </tbody>\n",
              "</table>\n",
              "<p>282 rows × 13 columns</p>\n",
              "</div>\n",
              "      <button class=\"colab-df-convert\" onclick=\"convertToInteractive('df-b4ba13ec-901a-4c17-b467-6eacabc5e971')\"\n",
              "              title=\"Convert this dataframe to an interactive table.\"\n",
              "              style=\"display:none;\">\n",
              "        \n",
              "  <svg xmlns=\"http://www.w3.org/2000/svg\" height=\"24px\"viewBox=\"0 0 24 24\"\n",
              "       width=\"24px\">\n",
              "    <path d=\"M0 0h24v24H0V0z\" fill=\"none\"/>\n",
              "    <path d=\"M18.56 5.44l.94 2.06.94-2.06 2.06-.94-2.06-.94-.94-2.06-.94 2.06-2.06.94zm-11 1L8.5 8.5l.94-2.06 2.06-.94-2.06-.94L8.5 2.5l-.94 2.06-2.06.94zm10 10l.94 2.06.94-2.06 2.06-.94-2.06-.94-.94-2.06-.94 2.06-2.06.94z\"/><path d=\"M17.41 7.96l-1.37-1.37c-.4-.4-.92-.59-1.43-.59-.52 0-1.04.2-1.43.59L10.3 9.45l-7.72 7.72c-.78.78-.78 2.05 0 2.83L4 21.41c.39.39.9.59 1.41.59.51 0 1.02-.2 1.41-.59l7.78-7.78 2.81-2.81c.8-.78.8-2.07 0-2.86zM5.41 20L4 18.59l7.72-7.72 1.47 1.35L5.41 20z\"/>\n",
              "  </svg>\n",
              "      </button>\n",
              "      \n",
              "  <style>\n",
              "    .colab-df-container {\n",
              "      display:flex;\n",
              "      flex-wrap:wrap;\n",
              "      gap: 12px;\n",
              "    }\n",
              "\n",
              "    .colab-df-convert {\n",
              "      background-color: #E8F0FE;\n",
              "      border: none;\n",
              "      border-radius: 50%;\n",
              "      cursor: pointer;\n",
              "      display: none;\n",
              "      fill: #1967D2;\n",
              "      height: 32px;\n",
              "      padding: 0 0 0 0;\n",
              "      width: 32px;\n",
              "    }\n",
              "\n",
              "    .colab-df-convert:hover {\n",
              "      background-color: #E2EBFA;\n",
              "      box-shadow: 0px 1px 2px rgba(60, 64, 67, 0.3), 0px 1px 3px 1px rgba(60, 64, 67, 0.15);\n",
              "      fill: #174EA6;\n",
              "    }\n",
              "\n",
              "    [theme=dark] .colab-df-convert {\n",
              "      background-color: #3B4455;\n",
              "      fill: #D2E3FC;\n",
              "    }\n",
              "\n",
              "    [theme=dark] .colab-df-convert:hover {\n",
              "      background-color: #434B5C;\n",
              "      box-shadow: 0px 1px 3px 1px rgba(0, 0, 0, 0.15);\n",
              "      filter: drop-shadow(0px 1px 2px rgba(0, 0, 0, 0.3));\n",
              "      fill: #FFFFFF;\n",
              "    }\n",
              "  </style>\n",
              "\n",
              "      <script>\n",
              "        const buttonEl =\n",
              "          document.querySelector('#df-b4ba13ec-901a-4c17-b467-6eacabc5e971 button.colab-df-convert');\n",
              "        buttonEl.style.display =\n",
              "          google.colab.kernel.accessAllowed ? 'block' : 'none';\n",
              "\n",
              "        async function convertToInteractive(key) {\n",
              "          const element = document.querySelector('#df-b4ba13ec-901a-4c17-b467-6eacabc5e971');\n",
              "          const dataTable =\n",
              "            await google.colab.kernel.invokeFunction('convertToInteractive',\n",
              "                                                     [key], {});\n",
              "          if (!dataTable) return;\n",
              "\n",
              "          const docLinkHtml = 'Like what you see? Visit the ' +\n",
              "            '<a target=\"_blank\" href=https://colab.research.google.com/notebooks/data_table.ipynb>data table notebook</a>'\n",
              "            + ' to learn more about interactive tables.';\n",
              "          element.innerHTML = '';\n",
              "          dataTable['output_type'] = 'display_data';\n",
              "          await google.colab.output.renderOutput(dataTable, element);\n",
              "          const docLink = document.createElement('div');\n",
              "          docLink.innerHTML = docLinkHtml;\n",
              "          element.appendChild(docLink);\n",
              "        }\n",
              "      </script>\n",
              "    </div>\n",
              "  </div>\n",
              "  "
            ]
          },
          "metadata": {},
          "execution_count": 17
        }
      ]
    },
    {
      "cell_type": "code",
      "source": [
        "X2, y2 = one_hot_encoded_data[['Genre 1_Crime']], one_hot_encoded_data['IMDB Rating']"
      ],
      "metadata": {
        "id": "2FIl6X45oY2-"
      },
      "execution_count": 18,
      "outputs": []
    },
    {
      "cell_type": "code",
      "source": [
        "lr2 = LinearRegression()\n",
        "lr2.fit(X2, y2)\n",
        "\n",
        "print('R-squared: {:.4f}'.format(lr2.score(X2, y2)))"
      ],
      "metadata": {
        "colab": {
          "base_uri": "https://localhost:8080/"
        },
        "id": "4wYNet0h35bZ",
        "outputId": "e7bd1977-5702-4e12-936d-5ee9c34f59c7"
      },
      "execution_count": 19,
      "outputs": [
        {
          "output_type": "stream",
          "name": "stdout",
          "text": [
            "R-squared: 0.0304\n"
          ]
        }
      ]
    },
    {
      "cell_type": "code",
      "source": [
        "Z = one_hot_encoded_data[['Genre 1_Crime', 'Genre 1_Drama', 'Genre 1_Comedy', 'Genre 2_Drama']]"
      ],
      "metadata": {
        "id": "QmLWM5gG66K7"
      },
      "execution_count": 20,
      "outputs": []
    },
    {
      "cell_type": "code",
      "source": [
        "X_train, X_test, y_train, y_test = train_test_split(\n",
        "    Z, one_hot_encoded_data['IMDB Rating'], test_size=0.3, random_state=42)"
      ],
      "metadata": {
        "id": "vXgCi8sg8dYQ"
      },
      "execution_count": 21,
      "outputs": []
    },
    {
      "cell_type": "code",
      "source": [
        "lm = LinearRegression()"
      ],
      "metadata": {
        "id": "tAC7ZqzX8rVP"
      },
      "execution_count": 22,
      "outputs": []
    },
    {
      "cell_type": "code",
      "source": [
        "lm.fit(X_train, y_train)"
      ],
      "metadata": {
        "colab": {
          "base_uri": "https://localhost:8080/"
        },
        "id": "rwNIY3dE7X0A",
        "outputId": "a6d3532d-1143-4c8a-ebb4-f271af0c4834"
      },
      "execution_count": 23,
      "outputs": [
        {
          "output_type": "execute_result",
          "data": {
            "text/plain": [
              "LinearRegression()"
            ]
          },
          "metadata": {},
          "execution_count": 23
        }
      ]
    },
    {
      "cell_type": "code",
      "source": [
        "predictions = lm.predict(X_test)"
      ],
      "metadata": {
        "id": "jFpMFP-d8x_G"
      },
      "execution_count": 24,
      "outputs": []
    },
    {
      "cell_type": "code",
      "source": [
        "print('mean_squared_error : ', mean_squared_error(y_test, predictions))\n",
        "print('mean_absolute_error : ', mean_absolute_error(y_test, predictions))"
      ],
      "metadata": {
        "colab": {
          "base_uri": "https://localhost:8080/"
        },
        "id": "lJK8BypG82S2",
        "outputId": "991474c6-dcc7-453a-8a27-ae58319062a6"
      },
      "execution_count": 25,
      "outputs": [
        {
          "output_type": "stream",
          "name": "stdout",
          "text": [
            "mean_squared_error :  0.049686280888529936\n",
            "mean_absolute_error :  0.15878137298588707\n"
          ]
        }
      ]
    },
    {
      "cell_type": "code",
      "source": [
        "Rcross = cross_val_score(lm, Z[['Genre 1_Crime']], one_hot_encoded_data['IMDB Rating'], cv=4)"
      ],
      "metadata": {
        "id": "xoYxFEzj_mcc"
      },
      "execution_count": 26,
      "outputs": []
    },
    {
      "cell_type": "code",
      "source": [
        "print(\"The mean of the folds are\", Rcross.mean(), \"and the standard deviation is\" , Rcross.std())"
      ],
      "metadata": {
        "colab": {
          "base_uri": "https://localhost:8080/"
        },
        "id": "qpyux80T_6G0",
        "outputId": "bba016fa-9703-4fda-c000-b6858d50845f"
      },
      "execution_count": 27,
      "outputs": [
        {
          "output_type": "stream",
          "name": "stdout",
          "text": [
            "The mean of the folds are -0.042217798754768276 and the standard deviation is 0.02405280327765355\n"
          ]
        }
      ]
    },
    {
      "cell_type": "code",
      "source": [
        "!pip install tensorflow==2.2.0"
      ],
      "metadata": {
        "colab": {
          "base_uri": "https://localhost:8080/"
        },
        "id": "eAtGvSt1CQit",
        "outputId": "07fb9f0c-f87a-44fc-9e26-315eb27b59aa"
      },
      "execution_count": 28,
      "outputs": [
        {
          "output_type": "stream",
          "name": "stdout",
          "text": [
            "Looking in indexes: https://pypi.org/simple, https://us-python.pkg.dev/colab-wheels/public/simple/\n",
            "Requirement already satisfied: tensorflow==2.2.0 in /usr/local/lib/python3.7/dist-packages (2.2.0)\n",
            "Requirement already satisfied: gast==0.3.3 in /usr/local/lib/python3.7/dist-packages (from tensorflow==2.2.0) (0.3.3)\n",
            "Requirement already satisfied: keras-preprocessing>=1.1.0 in /usr/local/lib/python3.7/dist-packages (from tensorflow==2.2.0) (1.1.2)\n",
            "Requirement already satisfied: protobuf>=3.8.0 in /usr/local/lib/python3.7/dist-packages (from tensorflow==2.2.0) (3.17.3)\n",
            "Requirement already satisfied: wheel>=0.26 in /usr/local/lib/python3.7/dist-packages (from tensorflow==2.2.0) (0.37.1)\n",
            "Requirement already satisfied: termcolor>=1.1.0 in /usr/local/lib/python3.7/dist-packages (from tensorflow==2.2.0) (1.1.0)\n",
            "Requirement already satisfied: absl-py>=0.7.0 in /usr/local/lib/python3.7/dist-packages (from tensorflow==2.2.0) (1.2.0)\n",
            "Requirement already satisfied: google-pasta>=0.1.8 in /usr/local/lib/python3.7/dist-packages (from tensorflow==2.2.0) (0.2.0)\n",
            "Requirement already satisfied: six>=1.12.0 in /usr/local/lib/python3.7/dist-packages (from tensorflow==2.2.0) (1.15.0)\n",
            "Requirement already satisfied: opt-einsum>=2.3.2 in /usr/local/lib/python3.7/dist-packages (from tensorflow==2.2.0) (3.3.0)\n",
            "Requirement already satisfied: scipy==1.4.1 in /usr/local/lib/python3.7/dist-packages (from tensorflow==2.2.0) (1.4.1)\n",
            "Requirement already satisfied: astunparse==1.6.3 in /usr/local/lib/python3.7/dist-packages (from tensorflow==2.2.0) (1.6.3)\n",
            "Requirement already satisfied: h5py<2.11.0,>=2.10.0 in /usr/local/lib/python3.7/dist-packages (from tensorflow==2.2.0) (2.10.0)\n",
            "Requirement already satisfied: numpy<2.0,>=1.16.0 in /usr/local/lib/python3.7/dist-packages (from tensorflow==2.2.0) (1.21.6)\n",
            "Requirement already satisfied: tensorflow-estimator<2.3.0,>=2.2.0 in /usr/local/lib/python3.7/dist-packages (from tensorflow==2.2.0) (2.2.0)\n",
            "Requirement already satisfied: wrapt>=1.11.1 in /usr/local/lib/python3.7/dist-packages (from tensorflow==2.2.0) (1.14.1)\n",
            "Requirement already satisfied: tensorboard<2.3.0,>=2.2.0 in /usr/local/lib/python3.7/dist-packages (from tensorflow==2.2.0) (2.2.2)\n",
            "Requirement already satisfied: grpcio>=1.8.6 in /usr/local/lib/python3.7/dist-packages (from tensorflow==2.2.0) (1.47.0)\n",
            "Requirement already satisfied: requests<3,>=2.21.0 in /usr/local/lib/python3.7/dist-packages (from tensorboard<2.3.0,>=2.2.0->tensorflow==2.2.0) (2.23.0)\n",
            "Requirement already satisfied: tensorboard-plugin-wit>=1.6.0 in /usr/local/lib/python3.7/dist-packages (from tensorboard<2.3.0,>=2.2.0->tensorflow==2.2.0) (1.8.1)\n",
            "Requirement already satisfied: google-auth<2,>=1.6.3 in /usr/local/lib/python3.7/dist-packages (from tensorboard<2.3.0,>=2.2.0->tensorflow==2.2.0) (1.35.0)\n",
            "Requirement already satisfied: werkzeug>=0.11.15 in /usr/local/lib/python3.7/dist-packages (from tensorboard<2.3.0,>=2.2.0->tensorflow==2.2.0) (1.0.1)\n",
            "Requirement already satisfied: markdown>=2.6.8 in /usr/local/lib/python3.7/dist-packages (from tensorboard<2.3.0,>=2.2.0->tensorflow==2.2.0) (3.4.1)\n",
            "Requirement already satisfied: setuptools>=41.0.0 in /usr/local/lib/python3.7/dist-packages (from tensorboard<2.3.0,>=2.2.0->tensorflow==2.2.0) (57.4.0)\n",
            "Requirement already satisfied: google-auth-oauthlib<0.5,>=0.4.1 in /usr/local/lib/python3.7/dist-packages (from tensorboard<2.3.0,>=2.2.0->tensorflow==2.2.0) (0.4.6)\n",
            "Requirement already satisfied: cachetools<5.0,>=2.0.0 in /usr/local/lib/python3.7/dist-packages (from google-auth<2,>=1.6.3->tensorboard<2.3.0,>=2.2.0->tensorflow==2.2.0) (4.2.4)\n",
            "Requirement already satisfied: rsa<5,>=3.1.4 in /usr/local/lib/python3.7/dist-packages (from google-auth<2,>=1.6.3->tensorboard<2.3.0,>=2.2.0->tensorflow==2.2.0) (4.9)\n",
            "Requirement already satisfied: pyasn1-modules>=0.2.1 in /usr/local/lib/python3.7/dist-packages (from google-auth<2,>=1.6.3->tensorboard<2.3.0,>=2.2.0->tensorflow==2.2.0) (0.2.8)\n",
            "Requirement already satisfied: requests-oauthlib>=0.7.0 in /usr/local/lib/python3.7/dist-packages (from google-auth-oauthlib<0.5,>=0.4.1->tensorboard<2.3.0,>=2.2.0->tensorflow==2.2.0) (1.3.1)\n",
            "Requirement already satisfied: importlib-metadata>=4.4 in /usr/local/lib/python3.7/dist-packages (from markdown>=2.6.8->tensorboard<2.3.0,>=2.2.0->tensorflow==2.2.0) (4.12.0)\n",
            "Requirement already satisfied: zipp>=0.5 in /usr/local/lib/python3.7/dist-packages (from importlib-metadata>=4.4->markdown>=2.6.8->tensorboard<2.3.0,>=2.2.0->tensorflow==2.2.0) (3.8.1)\n",
            "Requirement already satisfied: typing-extensions>=3.6.4 in /usr/local/lib/python3.7/dist-packages (from importlib-metadata>=4.4->markdown>=2.6.8->tensorboard<2.3.0,>=2.2.0->tensorflow==2.2.0) (4.1.1)\n",
            "Requirement already satisfied: pyasn1<0.5.0,>=0.4.6 in /usr/local/lib/python3.7/dist-packages (from pyasn1-modules>=0.2.1->google-auth<2,>=1.6.3->tensorboard<2.3.0,>=2.2.0->tensorflow==2.2.0) (0.4.8)\n",
            "Requirement already satisfied: chardet<4,>=3.0.2 in /usr/local/lib/python3.7/dist-packages (from requests<3,>=2.21.0->tensorboard<2.3.0,>=2.2.0->tensorflow==2.2.0) (3.0.4)\n",
            "Requirement already satisfied: urllib3!=1.25.0,!=1.25.1,<1.26,>=1.21.1 in /usr/local/lib/python3.7/dist-packages (from requests<3,>=2.21.0->tensorboard<2.3.0,>=2.2.0->tensorflow==2.2.0) (1.24.3)\n",
            "Requirement already satisfied: certifi>=2017.4.17 in /usr/local/lib/python3.7/dist-packages (from requests<3,>=2.21.0->tensorboard<2.3.0,>=2.2.0->tensorflow==2.2.0) (2022.6.15)\n",
            "Requirement already satisfied: idna<3,>=2.5 in /usr/local/lib/python3.7/dist-packages (from requests<3,>=2.21.0->tensorboard<2.3.0,>=2.2.0->tensorflow==2.2.0) (2.10)\n",
            "Requirement already satisfied: oauthlib>=3.0.0 in /usr/local/lib/python3.7/dist-packages (from requests-oauthlib>=0.7.0->google-auth-oauthlib<0.5,>=0.4.1->tensorboard<2.3.0,>=2.2.0->tensorflow==2.2.0) (3.2.0)\n"
          ]
        }
      ]
    },
    {
      "cell_type": "code",
      "source": [
        "# MLP with automatic validation set\n",
        "import tensorflow as tf\n",
        "from tensorflow.keras.models import Sequential\n",
        "from tensorflow.keras.layers import Dense\n",
        "import numpy\n",
        "# fix random seed for reproducibility\n",
        "numpy.random.seed(7)\n",
        "# load pima indians dataset\n",
        "# split into input (X) and output (Y) variables\n",
        "X = one_hot_encoded_data['Genre 1_Crime']\n",
        "Y = one_hot_encoded_data['IMDB Rating']\n",
        "# create model\n",
        "model = Sequential()\n",
        "model.add(Dense(2, activation='relu'))\n",
        "model.add(Dense(3, activation='relu'))\n",
        "model.add(Dense(4, activation='sigmoid'))\n",
        "# Compile model\n",
        "model.compile(loss='binary_crossentropy', optimizer='adam', metrics=['accuracy'])\n",
        "# Fit the model\n",
        "#model.fit(X, Y, validation_split=0.33, epochs=150, batch_size=10)"
      ],
      "metadata": {
        "id": "YhpsoeOkCIWK"
      },
      "execution_count": 32,
      "outputs": []
    }
  ]
}